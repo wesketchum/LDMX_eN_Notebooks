{
 "cells": [
  {
   "cell_type": "code",
   "execution_count": 1,
   "metadata": {},
   "outputs": [],
   "source": [
    "import os,sys\n",
    "sys.path.append(\"%s/analysis-CommonTools/\"%os.getenv('HOME'))\n",
    "from common_imports import *\n",
    "from matplotlib_tools import *"
   ]
  },
  {
   "cell_type": "code",
   "execution_count": 2,
   "metadata": {
    "scrolled": false
   },
   "outputs": [
    {
     "name": "stdout",
     "output_type": "stream",
     "text": [
      "Welcome to JupyROOT 6.26/00\n"
     ]
    }
   ],
   "source": [
    "import ROOT"
   ]
  },
  {
   "cell_type": "code",
   "execution_count": 3,
   "metadata": {},
   "outputs": [],
   "source": [
    "ROOT.gStyle.SetOptStat(0)"
   ]
  },
  {
   "cell_type": "code",
   "execution_count": 4,
   "metadata": {},
   "outputs": [],
   "source": [
    "%jsroot on"
   ]
  },
  {
   "cell_type": "code",
   "execution_count": 5,
   "metadata": {},
   "outputs": [],
   "source": [
    "do_iev_check = False\n",
    "\n",
    "lep_accept_pt = 0.4 #GeV\n",
    "lep_accept_angle = radians(40)\n",
    "\n",
    "hadron_accept_angle = radians(40)\n",
    "hadron_accept_ke = 0.060 #GeV"
   ]
  },
  {
   "cell_type": "code",
   "execution_count": 6,
   "metadata": {},
   "outputs": [],
   "source": [
    "c = ROOT.TCanvas()"
   ]
  },
  {
   "cell_type": "code",
   "execution_count": 7,
   "metadata": {},
   "outputs": [],
   "source": [
    "gst_files_dir = \"/Users/wketchum/Data/LDMX/eN_Ti_Base\"\n",
    "gst_files = ROOT.TFileCollection()\n",
    "for run in range(11):\n",
    "    gst_files.Add(f\"{gst_files_dir}/run_{run}_gntp.0.gst.root\")    "
   ]
  },
  {
   "cell_type": "code",
   "execution_count": 8,
   "metadata": {},
   "outputs": [
    {
     "data": {
      "text/plain": [
       "1"
      ]
     },
     "execution_count": 8,
     "metadata": {},
     "output_type": "execute_result"
    }
   ],
   "source": [
    "gst_chain = ROOT.TChain(\"gst\");\n",
    "gst_chain.AddFileInfoList(gst_files.GetList())"
   ]
  },
  {
   "cell_type": "code",
   "execution_count": 9,
   "metadata": {},
   "outputs": [],
   "source": [
    "knob_names = [\"FrCEx_N\",\"FrAbs_N\",\"FrInel_N\",\"FrPiProd_N\",#\"MFP_N\",\n",
    "              \"FrCEx_pi\",\"FrAbs_pi\",\"FrInel_pi\",\"FrPiProd_pi\"]"
   ]
  },
  {
   "cell_type": "code",
   "execution_count": 10,
   "metadata": {},
   "outputs": [],
   "source": [
    "for kn in knob_names:\n",
    "    wfiles = ROOT.TFileCollection()\n",
    "    for run in range(11):\n",
    "        rstring = \"run_%d_gntp\"%run\n",
    "        wfiles.Add(f\"/Users/wketchum/Data/LDMX/eN_Ti_Rw_FSI/{rstring}/run_{run}_gntp_weights_{kn}.root\")\n",
    "    for twk in [0,1,3,4]:\n",
    "        wtree = ROOT.TChain(f\"{kn}_twk{twk}\")\n",
    "        wtree.AddFileInfoList(wfiles.GetList())\n",
    "        if(gst_chain.GetEntries()!=wtree.GetEntries()):\n",
    "            print(f\"Error! Number of entries not equal: {gst_chain.GetEntries()}!={wtree.GetEntries()}\")\n",
    "            break\n",
    "        sigmaval=twk-2\n",
    "        sigmasign=\"p\" if sigmaval>0 else \"n\"\n",
    "        gst_chain.AddFriend(wtree,f\"wght_{kn}_{sigmasign}{abs(sigmaval)}\")"
   ]
  },
  {
   "cell_type": "code",
   "execution_count": 11,
   "metadata": {},
   "outputs": [],
   "source": [
    "df_gst_all = ROOT.RDataFrame(gst_chain)"
   ]
  },
  {
   "cell_type": "code",
   "execution_count": 12,
   "metadata": {},
   "outputs": [],
   "source": [
    "for kn in knob_names:\n",
    "    for sigmastr in [\"n2\",\"n1\",\"p1\",\"p2\"]:\n",
    "        for var in [\"iev\",\"wght\"]:\n",
    "            df_gst_all = df_gst_all.Alias(f\"wght_{kn}_{sigmastr}_{var}\",f\"wght_{kn}_{sigmastr}.{var}\")"
   ]
  },
  {
   "cell_type": "code",
   "execution_count": 13,
   "metadata": {},
   "outputs": [],
   "source": [
    "#if we want to make sure that everything was in order...\n",
    "\n",
    "if do_iev_check:\n",
    "    for kn in knob_names:\n",
    "        for sigmastr in [\"n2\"]:# can afford to just do this once... ,\"n1\",\"p1\",\"p2\"]:\n",
    "            print(f\"Checking knob {kn}_{sigmastr} for mismatches\")\n",
    "            n_mismatch = df_gst_all.Filter(f\"iev!=wght_{kn}_{sigmastr}_iev\").Count().GetValue()\n",
    "            if(n_mismatch!=0):\n",
    "                print(f\"Error! Mismatch in iev for {kn}_{sigmastr}\")"
   ]
  },
  {
   "cell_type": "code",
   "execution_count": 14,
   "metadata": {},
   "outputs": [],
   "source": [
    "df_gst_all = df_gst_all.Define(\"ptl\",\"sqrt(pxl*pxl+pyl*pyl)\")\n",
    "df_gst_all = df_gst_all.Define(\"thetazl\",\"atan2(ptl,pzl)\")"
   ]
  },
  {
   "cell_type": "code",
   "execution_count": 15,
   "metadata": {},
   "outputs": [],
   "source": [
    "df_gst_all = df_gst_all.Define(\"thetaxzf\",\"atan2(pxf,pzf)\")\n",
    "df_gst_all = df_gst_all.Define(\"thetayzf\",\"atan2(pyf,pzf)\")\n",
    "df_gst_all = df_gst_all.Define(\"ptf\",\"sqrt(pxf*pxf+pyf*pyf)\")\n",
    "df_gst_all = df_gst_all.Define(\"thetazf\",\"atan2(ptf,pzf)\")"
   ]
  },
  {
   "cell_type": "code",
   "execution_count": 16,
   "metadata": {},
   "outputs": [],
   "source": [
    "df_gst_all = df_gst_all.Define(\"massf\",\"sqrt(Ef*Ef-pf*pf)\")\n",
    "df_gst_all = df_gst_all.Define(\"kef\",\"Ef-massf\")"
   ]
  },
  {
   "cell_type": "code",
   "execution_count": 17,
   "metadata": {},
   "outputs": [],
   "source": [
    "df_gst_all = df_gst_all.Define(\"energy_transfer\",\"Ev-El\")"
   ]
  },
  {
   "cell_type": "code",
   "execution_count": 18,
   "metadata": {},
   "outputs": [],
   "source": [
    "hadronf_vars = [\"pdgf\",\"Ef\",\"pxf\",\"pyf\",\"pzf\",\"ptf\",\"pf\",\"massf\",\"kef\",\"thetaxzf\",\"thetayzf\",\"thetazf\"]"
   ]
  },
  {
   "cell_type": "code",
   "execution_count": 19,
   "metadata": {},
   "outputs": [],
   "source": [
    "for var in hadronf_vars:\n",
    "    df_gst_all = df_gst_all.Define(f\"{var}_p\",f\"{var}[pdgf==2212]\")\n",
    "    df_gst_all = df_gst_all.Define(f\"{var}_n\",f\"{var}[pdgf==2112]\")\n",
    "    df_gst_all = df_gst_all.Define(f\"{var}_pi0\",f\"{var}[pdgf==111]\")\n",
    "    df_gst_all = df_gst_all.Define(f\"{var}_piplus\",f\"{var}[pdgf==211]\")\n",
    "    df_gst_all = df_gst_all.Define(f\"{var}_piminus\",f\"{var}[pdgf==-211]\")\n",
    "    \n",
    "    df_gst_all = df_gst_all.Define(f\"{var}_p_accept\",f\"{var}[pdgf==2212 && thetazf<{hadron_accept_angle} && kef>{hadron_accept_ke}]\")\n",
    "    df_gst_all = df_gst_all.Define(f\"{var}_n_accept\",f\"{var}[pdgf==2112 && thetazf<{hadron_accept_angle} && kef>{hadron_accept_ke}]\")\n",
    "#    df_gst_all = df_gst_all.Define(f\"{var}_pi0_accept\",f\"{var}_pi0[pdgf==111 && thetazf<{hadron_accept_angle} && kef>{hadron_accept_ke}]\")\n",
    "    df_gst_all = df_gst_all.Define(f\"{var}_piplus_accept\",f\"{var}[pdgf==211 && thetazf<{hadron_accept_angle} && kef>{hadron_accept_ke}]\")\n",
    "    df_gst_all = df_gst_all.Define(f\"{var}_piminus_accept\",f\"{var}[pdgf==-211 && thetazf<{hadron_accept_angle} && kef>{hadron_accept_ke}]\")"
   ]
  },
  {
   "cell_type": "code",
   "execution_count": null,
   "metadata": {
    "scrolled": false
   },
   "outputs": [],
   "source": [
    "for n in df_gst_all.GetColumnNames():\n",
    "    print(n)"
   ]
  },
  {
   "cell_type": "code",
   "execution_count": null,
   "metadata": {},
   "outputs": [],
   "source": [
    "etransfer_bins = array.array('d',np.logspace(np.log10(0.05),np.log10(4),100).tolist())\n",
    "q2transfer_bins = array.array('d',np.logspace(np.log10(0.02),np.log10(10),100).tolist())"
   ]
  },
  {
   "cell_type": "code",
   "execution_count": null,
   "metadata": {},
   "outputs": [],
   "source": [
    "h_lep_q2vw = df_gst_all.Histo2D((\"\",\"\",len(etransfer_bins)-1,etransfer_bins,len(q2transfer_bins)-1,q2transfer_bins),\n",
    "                       \"energy_transfer\",\"Q2\")"
   ]
  },
  {
   "cell_type": "code",
   "execution_count": null,
   "metadata": {
    "scrolled": false
   },
   "outputs": [],
   "source": [
    "h_lep_q2vw.Draw(\"colz\")\n",
    "c.SetLogx()\n",
    "c.SetLogy()\n",
    "c.Draw()"
   ]
  },
  {
   "cell_type": "code",
   "execution_count": 21,
   "metadata": {},
   "outputs": [],
   "source": [
    "df_gst_lep_accept = df_gst_all.Filter(f\"ptl>0.4 && abs(thetazl)<{radians(40)}\")"
   ]
  },
  {
   "cell_type": "code",
   "execution_count": null,
   "metadata": {},
   "outputs": [],
   "source": [
    "h_lep_q2vw_accept = df_gst_lep_accept.Histo2D((\"\",\"\",len(etransfer_bins)-1,etransfer_bins,\n",
    "                                            len(q2transfer_bins)-1,q2transfer_bins),\n",
    "                                      \"energy_transfer\",\"Q2\")"
   ]
  },
  {
   "cell_type": "code",
   "execution_count": null,
   "metadata": {},
   "outputs": [],
   "source": [
    "h_lep_q2vw_accept.Draw(\"colz\")\n",
    "c.SetLogx()\n",
    "c.SetLogy()\n",
    "c.Draw()"
   ]
  },
  {
   "cell_type": "code",
   "execution_count": null,
   "metadata": {},
   "outputs": [],
   "source": [
    "h = df_gst_lep_accept.Histo1D((\"\",\"\",1000,0,3.0),\"kef_p_accept\")\n",
    "h2 = df_gst_lep_accept.Histo1D((\"\",\"\",1000,0,3.0),\"kef_p\")"
   ]
  },
  {
   "cell_type": "code",
   "execution_count": null,
   "metadata": {},
   "outputs": [],
   "source": [
    "h.Draw()\n",
    "h2.SetLineColor(ROOT.kRed)\n",
    "h2.Draw(\"same\")\n",
    "c.Draw()"
   ]
  },
  {
   "cell_type": "code",
   "execution_count": null,
   "metadata": {},
   "outputs": [],
   "source": [
    "h3 = df_gst_lep_accept.Histo1D((\"\",\"\",1000,0,3.0),\"ptf_piplus\")"
   ]
  },
  {
   "cell_type": "code",
   "execution_count": null,
   "metadata": {},
   "outputs": [],
   "source": [
    "h3.Draw()\n",
    "c.Draw()"
   ]
  },
  {
   "cell_type": "code",
   "execution_count": 22,
   "metadata": {},
   "outputs": [
    {
     "data": {
      "text/html": [
       "\n",
       "\n",
       "<div id=\"root_plot_1650566800673\"\n",
       "     style=\"width: 696px; height: 472px\">\n",
       "</div>\n",
       "<script>\n",
       "\n",
       "function display_root_plot_1650566800673(Core) {\n",
       "   let obj = Core.parse({\"_typename\":\"TCanvas\",\"fUniqueID\":0,\"fBits\":3342344,\"fLineColor\":1,\"fLineStyle\":1,\"fLineWidth\":1,\"fFillColor\":0,\"fFillStyle\":1001,\"fLeftMargin\":0.1,\"fRightMargin\":0.1,\"fBottomMargin\":0.1,\"fTopMargin\":0.1,\"fXfile\":2,\"fYfile\":2,\"fAfile\":1,\"fXstat\":0.99,\"fYstat\":0.99,\"fAstat\":2,\"fFrameFillColor\":0,\"fFrameLineColor\":1,\"fFrameFillStyle\":1001,\"fFrameLineStyle\":1,\"fFrameLineWidth\":1,\"fFrameBorderSize\":1,\"fFrameBorderMode\":0,\"fX1\":-0.375000027939679,\"fY1\":-297.675022178517,\"fX2\":3.37500002793968,\"fY2\":2679.07502217852,\"fXtoAbsPixelk\":69.6000541484835,\"fXtoPixelk\":69.6000541484835,\"fXtoPixel\":185.599997234344,\"fYtoAbsPixelk\":424.800047186661,\"fYtoPixelk\":424.800047186661,\"fYtoPixel\":-0.158562187945461,\"fUtoAbsPixelk\":5e-5,\"fUtoPixelk\":5e-5,\"fUtoPixel\":696,\"fVtoAbsPixelk\":472.00005,\"fVtoPixelk\":472,\"fVtoPixel\":-472,\"fAbsPixeltoXk\":-0.375000027939679,\"fPixeltoXk\":-0.375000027939679,\"fPixeltoX\":0.00538793111476919,\"fAbsPixeltoYk\":2679.07502217852,\"fPixeltoYk\":-297.675022178517,\"fPixeltoY\":-6.30667382279033,\"fXlowNDC\":0,\"fYlowNDC\":0,\"fXUpNDC\":1,\"fYUpNDC\":1,\"fWNDC\":1,\"fHNDC\":1,\"fAbsXlowNDC\":0,\"fAbsYlowNDC\":0,\"fAbsWNDC\":1,\"fAbsHNDC\":1,\"fUxmin\":0,\"fUymin\":0,\"fUxmax\":3,\"fUymax\":2381.4,\"fTheta\":30,\"fPhi\":30,\"fAspectRatio\":0,\"fNumber\":0,\"fTickx\":0,\"fTicky\":0,\"fLogx\":0,\"fLogy\":0,\"fLogz\":0,\"fPadPaint\":0,\"fCrosshair\":0,\"fCrosshairPos\":0,\"fBorderSize\":2,\"fBorderMode\":0,\"fModified\":false,\"fGridx\":false,\"fGridy\":false,\"fAbsCoord\":false,\"fEditable\":true,\"fFixedAspectRatio\":false,\"fPrimitives\":{\"_typename\":\"TList\",\"name\":\"TList\",\"arr\":[{\"_typename\":\"TFrame\",\"fUniqueID\":0,\"fBits\":8,\"fLineColor\":1,\"fLineStyle\":1,\"fLineWidth\":1,\"fFillColor\":0,\"fFillStyle\":1001,\"fX1\":0,\"fY1\":0,\"fX2\":3,\"fY2\":2381.4,\"fBorderSize\":1,\"fBorderMode\":0},{\"_typename\":\"TH1D\",\"fUniqueID\":0,\"fBits\":520,\"fName\":\"\",\"fTitle\":\"\",\"fLineColor\":602,\"fLineStyle\":1,\"fLineWidth\":1,\"fFillColor\":0,\"fFillStyle\":1001,\"fMarkerColor\":1,\"fMarkerStyle\":1,\"fMarkerSize\":1,\"fNcells\":1002,\"fXaxis\":{\"_typename\":\"TAxis\",\"fUniqueID\":0,\"fBits\":0,\"fName\":\"xaxis\",\"fTitle\":\"\",\"fNdivisions\":510,\"fAxisColor\":1,\"fLabelColor\":1,\"fLabelFont\":42,\"fLabelOffset\":0.005,\"fLabelSize\":0.035,\"fTickLength\":0.03,\"fTitleOffset\":1,\"fTitleSize\":0.035,\"fTitleColor\":1,\"fTitleFont\":42,\"fNbins\":1000,\"fXmin\":0,\"fXmax\":3,\"fXbins\":[],\"fFirst\":0,\"fLast\":0,\"fBits2\":0,\"fTimeDisplay\":false,\"fTimeFormat\":\"\",\"fLabels\":null,\"fModLabs\":null},\"fYaxis\":{\"_typename\":\"TAxis\",\"fUniqueID\":0,\"fBits\":0,\"fName\":\"yaxis\",\"fTitle\":\"\",\"fNdivisions\":510,\"fAxisColor\":1,\"fLabelColor\":1,\"fLabelFont\":42,\"fLabelOffset\":0.005,\"fLabelSize\":0.035,\"fTickLength\":0.03,\"fTitleOffset\":0,\"fTitleSize\":0.035,\"fTitleColor\":1,\"fTitleFont\":42,\"fNbins\":1,\"fXmin\":0,\"fXmax\":1,\"fXbins\":[],\"fFirst\":0,\"fLast\":0,\"fBits2\":0,\"fTimeDisplay\":false,\"fTimeFormat\":\"\",\"fLabels\":null,\"fModLabs\":null},\"fZaxis\":{\"_typename\":\"TAxis\",\"fUniqueID\":0,\"fBits\":0,\"fName\":\"zaxis\",\"fTitle\":\"\",\"fNdivisions\":510,\"fAxisColor\":1,\"fLabelColor\":1,\"fLabelFont\":42,\"fLabelOffset\":0.005,\"fLabelSize\":0.035,\"fTickLength\":0.03,\"fTitleOffset\":1,\"fTitleSize\":0.035,\"fTitleColor\":1,\"fTitleFont\":42,\"fNbins\":1,\"fXmin\":0,\"fXmax\":1,\"fXbins\":[],\"fFirst\":0,\"fLast\":0,\"fBits2\":0,\"fTimeDisplay\":false,\"fTimeFormat\":\"\",\"fLabels\":null,\"fModLabs\":null},\"fBarOffset\":0,\"fBarWidth\":1000,\"fEntries\":282480,\"fTsumw\":282480,\"fTsumw2\":282480,\"fTsumwx\":113204.60848356,\"fTsumwx2\":79474.6260717567,\"fMaximum\":-1111,\"fMinimum\":-1111,\"fNormFactor\":0,\"fContour\":[],\"fSumw2\":[],\"fOption\":\"\",\"fFunctions\":{\"_typename\":\"TList\",\"name\":\"TList\",\"arr\":[],\"opt\":[]},\"fBufferSize\":0,\"fBuffer\":[],\"fBinStatErrOpt\":0,\"fStatOverflows\":2,\"fArray\":{\"$arr\":\"Float64\",\"len\":1002,\"p\":1,\"v\":[12,28,47,102,109,123,192,233,313,294,364,424,444,526,535,574,661,754,848,890,886,1026,1107,1166,1311,1282,1396,1412,1527,1622,1740,1750,1699,1845,1864,1938,1981,2071,2049,2085,2147,2051,2141,2198,2154,2268,2118,2200,2216,2188,2171,2136,2175,2199,2095,2060,2031,2049,2013,2041,1943,1910,1930,1971,1820,1833,1775,1800,1757,1719,1674,1753,1724,1616,1619,1602,1574,1524,1436,1515,1486,1404,1399,1445,1412,1379,1367,1316,1303,1304,1308,1281,1290,1203,1275,1245,1282,1223,1203,1266,1161,1188,1190,1236,1214,1214,1175,1155,1200,1126,1169,1210,1193,1121,1090,1131,1121,1142,1120,1110,1113,1095,1106,1072,1099,1083,1033,1083,1074,1043,1004,1037,1002,989,944,1004,908,979,963,868,954,937,885,921,894,872,874,899,860,815,878,820,784,867,842,825,812,765,744,727,729,748,733,764,742,747,757,692,658,672,632,675,633,643,594,668,612,631,579,591,601,572,603,605,607,588,547,543,559,551,550,525,531,533,537,524,488,492,515,487,485,461,494,477,500,452,488,461,471,444,421,469,438,453,434,403,410,409,434,398,424,383,372,381,370,364,377,371,345,369,324,357,364,302,319,380,315,325,311,307,297,277,313,297,286,302,282,317,275,296,296,293,282,311,310,266,277,254,281,253,254,269,259,269,246,242,272,251,267,252,276,270,267,268,262,247,251,231,220,225,229,228,235,204,245,227,212,197,195,212,184,209,186,202,215,206,201,168,215,198,172,187,171,159,177,169,157,195,174,153,155,139,127,168,169,167,142,141,169,138,152,158,121,131,145,133,143,131,129,137,101,125,119,105,113,120,145,142,133,108,123,122,113,134,128,116,123,134,123,130,93,95,93,103,119,120,112,115,98,111,113,108,111,118,89,113,114,107,106,96,94,103,105,100,100,99,100,90,100,97,76,78,98,74,107,98,82,91,92,106,87,90,96,75,96,83,89,87,78,84,73,79,95,75,84,69,100,79,100,82,67,88,81,72,68,64,75,71,69,63,72,74,60,86,74,74,66,83,78,63,52,62,75,79,66,73,45,61,64,61,57,74,54,57,66,56,68,66,57,54,62,59,73,63,74,79,62,57,64,63,50,48,53,57,57,60,52,51,52,50,49,52,60,58,48,50,63,42,53,45,51,35,35,42,32,57,44,43,46,41,37,44,43,49,58,46,45,40,41,49,53,39,43,37,42,48,43,38,38,41,39,40,37,41,25,27,49,34,28,39,41,32,39,25,29,38,33,29,34,33,36,39,41,38,43,30,38,36,22,29,40,43,35,24,33,19,37,23,31,26,28,28,20,35,28,26,33,30,24,26,21,33,26,37,19,18,26,27,41,21,25,24,28,26,24,25,18,29,19,25,22,31,22,23,22,20,28,26,28,20,27,14,25,19,23,21,10,12,23,19,20,28,19,17,21,22,18,14,25,20,24,14,23,14,18,8,13,16,12,24,18,18,22,20,10,17,19,15,17,18,20,17,10,17,18,13,20,13,26,16,16,10,17,17,17,18,9,21,14,9,15,16,11,21,13,10,17,10,9,11,14,20,10,12,12,16,12,8,10,9,14,15,18,7,17,8,10,13,12,9,13,13,14,10,18,5,11,14,13,12,6,19,9,9,8,9,10,10,9,19,6,10,8,6,11,14,7,10,7,13,7,10,7,13,4,8,9,5,8,8,7,8,8,11,8,8,6,8,16,14,2,12,5,4,7,7,10,5,10,6,6,5,7,3,4,9,6,3,9,2,12,3,3,6,5,5,6,3,4,2,7,6,10,8,3,5,7,2,7,6,4,7,6,7,7,2,3,7,5,1,5,4,5,2,8,6,2,6,7,4,6,3,2,5,4,7,3,3,7,7,5,0,5,1,3,5,2,5,3,2,4,2,2,6,6,4,1,2,4,3,2,2,1,3,3,4,1,3,5,4,0,2,2,3,2,0,3,2,0,3,1,1,0,2,1,1,1,2,1,3,0,2,3,4,3,1,1,2,0,0,3,0,3,2,2,0,2,1,3,3,0,2,1,2,1,3,2,1,1,1,2,1,2,4,0,4,3,1,0,2,1,0,1,2,1,0,2,0,0,0,3,1,1,0,2,0,1,0,0,2,1,0,0,1,0,0,0,1,0],\"v1\":1,\"n1\":6,\"p2\":932,\"v2\":[3,0,0,1,0,0,0,0,1,1,2,0,2,0,0,0,1,0,0,0,0,1,0,0,0,0,0,0,0,0,0,1],\"p3\":974,\"v3\":[2,0,1,0,0,0,0,1,0,0,1],\"p4\":996,\"v4\":1}},{\"_typename\":\"TStyle\",\"fUniqueID\":0,\"fBits\":0,\"fName\":\"Modern\",\"fTitle\":\"Modern Style\",\"fLineColor\":1,\"fLineStyle\":1,\"fLineWidth\":1,\"fFillColor\":19,\"fFillStyle\":1001,\"fMarkerColor\":1,\"fMarkerStyle\":1,\"fMarkerSize\":1,\"fTextAngle\":0,\"fTextSize\":0.05,\"fTextAlign\":11,\"fTextColor\":1,\"fTextFont\":62,\"fXaxis\":{\"_typename\":\"TAttAxis\",\"fNdivisions\":510,\"fAxisColor\":1,\"fLabelColor\":1,\"fLabelFont\":42,\"fLabelOffset\":0.005,\"fLabelSize\":0.035,\"fTickLength\":0.03,\"fTitleOffset\":1,\"fTitleSize\":0.035,\"fTitleColor\":1,\"fTitleFont\":42},\"fYaxis\":{\"_typename\":\"TAttAxis\",\"fNdivisions\":510,\"fAxisColor\":1,\"fLabelColor\":1,\"fLabelFont\":42,\"fLabelOffset\":0.005,\"fLabelSize\":0.035,\"fTickLength\":0.03,\"fTitleOffset\":0,\"fTitleSize\":0.035,\"fTitleColor\":1,\"fTitleFont\":42},\"fZaxis\":{\"_typename\":\"TAttAxis\",\"fNdivisions\":510,\"fAxisColor\":1,\"fLabelColor\":1,\"fLabelFont\":42,\"fLabelOffset\":0.005,\"fLabelSize\":0.035,\"fTickLength\":0.03,\"fTitleOffset\":1,\"fTitleSize\":0.035,\"fTitleColor\":1,\"fTitleFont\":42},\"fBarWidth\":1,\"fBarOffset\":0,\"fColorModelPS\":0,\"fDrawBorder\":0,\"fOptLogx\":0,\"fOptLogy\":0,\"fOptLogz\":0,\"fOptDate\":0,\"fOptStat\":0,\"fOptTitle\":1,\"fOptFile\":0,\"fOptFit\":0,\"fShowEventStatus\":0,\"fShowEditor\":0,\"fShowToolBar\":0,\"fNumberContours\":20,\"fAttDate\":{\"_typename\":\"TAttText\",\"fTextAngle\":0,\"fTextSize\":0.025,\"fTextAlign\":11,\"fTextColor\":1,\"fTextFont\":62},\"fDateX\":0.01,\"fDateY\":0.01,\"fEndErrorSize\":2,\"fErrorX\":0.5,\"fFuncColor\":2,\"fFuncStyle\":1,\"fFuncWidth\":2,\"fGridColor\":0,\"fGridStyle\":3,\"fGridWidth\":1,\"fLegendBorderSize\":1,\"fLegendFillColor\":0,\"fLegendFont\":42,\"fLegendTextSize\":0,\"fHatchesLineWidth\":1,\"fHatchesSpacing\":1,\"fFrameFillColor\":0,\"fFrameLineColor\":1,\"fFrameFillStyle\":1001,\"fFrameLineStyle\":1,\"fFrameLineWidth\":1,\"fFrameBorderSize\":1,\"fFrameBorderMode\":0,\"fHistFillColor\":0,\"fHistLineColor\":602,\"fHistFillStyle\":1001,\"fHistLineStyle\":1,\"fHistLineWidth\":1,\"fHistMinimumZero\":false,\"fHistTopMargin\":0.05,\"fCanvasPreferGL\":false,\"fCanvasColor\":0,\"fCanvasBorderSize\":2,\"fCanvasBorderMode\":0,\"fCanvasDefH\":500,\"fCanvasDefW\":700,\"fCanvasDefX\":10,\"fCanvasDefY\":10,\"fPadColor\":0,\"fPadBorderSize\":2,\"fPadBorderMode\":0,\"fPadBottomMargin\":0.1,\"fPadTopMargin\":0.1,\"fPadLeftMargin\":0.1,\"fPadRightMargin\":0.1,\"fPadGridX\":false,\"fPadGridY\":false,\"fPadTickX\":0,\"fPadTickY\":0,\"fPaperSizeX\":20,\"fPaperSizeY\":26,\"fScreenFactor\":1,\"fStatColor\":0,\"fStatTextColor\":1,\"fStatBorderSize\":1,\"fStatFont\":42,\"fStatFontSize\":0,\"fStatStyle\":1001,\"fStatFormat\":\"6.4g\",\"fStatX\":0.98,\"fStatY\":0.935,\"fStatW\":0.2,\"fStatH\":0.16,\"fStripDecimals\":true,\"fTitleAlign\":23,\"fTitleColor\":0,\"fTitleTextColor\":1,\"fTitleBorderSize\":0,\"fTitleFont\":42,\"fTitleFontSize\":0.05,\"fTitleStyle\":0,\"fTitleX\":0.5,\"fTitleY\":0.995,\"fTitleW\":0,\"fTitleH\":0,\"fLegoInnerR\":0.5,\"fLineStyles\":[\"\",\"  \",\" 12 12\",\" 4 8\",\" 12 16 4 16\",\" 20 12 4 12\",\" 20 12 4 12 4 12 4 12\",\" 20 20\",\" 20 12 4 12 4 12\",\" 80 20\",\" 80 40 4 40\",\"  \",\"  \",\"  \",\"  \",\"  \",\"  \",\"  \",\"  \",\"  \",\"  \",\"  \",\"  \",\"  \",\"  \",\"  \",\"  \",\"  \",\"  \",\"  \"],\"fHeaderPS\":\"\",\"fTitlePS\":\"\",\"fFitFormat\":\"5.4g\",\"fPaintTextFormat\":\"g\",\"fLineScalePS\":3,\"fJoinLinePS\":0,\"fCapLinePS\":0,\"fTimeOffset\":788918400,\"fImageScaling\":1}],\"opt\":[\"\",\"\",\"\"]},\"fExecs\":null,\"fName\":\"c1\",\"fTitle\":\"c1\",\"fNumPaletteColor\":0,\"fNextPaletteColor\":0,\"fDISPLAY\":\"$DISPLAY\",\"fDoubleBuffer\":0,\"fRetained\":true,\"fXsizeUser\":0,\"fYsizeUser\":0,\"fXsizeReal\":20,\"fYsizeReal\":14.28571,\"fWindowTopX\":0,\"fWindowTopY\":0,\"fWindowWidth\":0,\"fWindowHeight\":0,\"fCw\":696,\"fCh\":472,\"fCatt\":{\"_typename\":\"TAttCanvas\",\"fXBetween\":2,\"fYBetween\":2,\"fTitleFromTop\":1.2,\"fXdate\":0.2,\"fYdate\":0.3,\"fAdate\":1},\"kMoveOpaque\":true,\"kResizeOpaque\":true,\"fHighLightColor\":2,\"fBatch\":true,\"kShowEventStatus\":false,\"kAutoExec\":true,\"kMenuBar\":true});\n",
       "   Core.settings.HandleKeys = false;\n",
       "   Core.draw(\"root_plot_1650566800673\", obj, \"\");\n",
       "}\n",
       "\n",
       "function script_load_root_plot_1650566800673(src, on_error) {\n",
       "    let script = document.createElement('script');\n",
       "    script.src = src;\n",
       "    script.onload = function() { display_root_plot_1650566800673(JSROOT); };\n",
       "    script.onerror = function() { script.remove(); on_error(); };\n",
       "    document.head.appendChild(script);\n",
       "}\n",
       "\n",
       "if (typeof requirejs !== 'undefined') {\n",
       "\n",
       "    // We are in jupyter notebooks, use require.js which should be configured already\n",
       "    requirejs.config({\n",
       "       paths: { 'JSRootCore' : [ 'scripts/JSRoot.core', 'https://root.cern/js/6.1.1/scripts/JSRoot.core.min', 'https://jsroot.gsi.de/6.1.1/scripts/JSRoot.core.min' ] }\n",
       "    })(['JSRootCore'],  function(Core) {\n",
       "       display_root_plot_1650566800673(Core);\n",
       "    });\n",
       "\n",
       "} else if (typeof JSROOT !== 'undefined') {\n",
       "\n",
       "   // JSROOT already loaded, just use it\n",
       "   display_root_plot_1650566800673(JSROOT);\n",
       "\n",
       "} else {\n",
       "\n",
       "    // We are in jupyterlab without require.js, directly loading jsroot\n",
       "    // Jupyterlab might be installed in a different base_url so we need to know it.\n",
       "    try {\n",
       "        var base_url = JSON.parse(document.getElementById('jupyter-config-data').innerHTML).baseUrl;\n",
       "    } catch(_) {\n",
       "        var base_url = '/';\n",
       "    }\n",
       "\n",
       "    // Try loading a local version of requirejs and fallback to cdn if not possible.\n",
       "    script_load_root_plot_1650566800673(base_url + 'static/scripts/JSRoot.core.js', function(){\n",
       "        console.error('Fail to load JSROOT locally, please check your jupyter_notebook_config.py file');\n",
       "        script_load_root_plot_1650566800673('https://root.cern/js/6.1.1/scripts/JSRoot.core.min.js', function(){\n",
       "            document.getElementById(\"root_plot_1650566800673\").innerHTML = \"Failed to load JSROOT\";\n",
       "        });\n",
       "    });\n",
       "}\n",
       "\n",
       "</script>\n"
      ],
      "text/plain": [
       "<IPython.core.display.HTML object>"
      ]
     },
     "metadata": {},
     "output_type": "display_data"
    }
   ],
   "source": [
    "h4 = df_gst_lep_accept.Histo1D((\"\",\"\",1000,0,3.0),\"pf_piplus\")\n",
    "h4.Draw()\n",
    "c.Draw()"
   ]
  },
  {
   "cell_type": "code",
   "execution_count": 23,
   "metadata": {},
   "outputs": [
    {
     "data": {
      "text/html": [
       "\n",
       "\n",
       "<div id=\"root_plot_1650566846022\"\n",
       "     style=\"width: 696px; height: 472px\">\n",
       "</div>\n",
       "<script>\n",
       "\n",
       "function display_root_plot_1650566846022(Core) {\n",
       "   let obj = Core.parse({\"_typename\":\"TCanvas\",\"fUniqueID\":0,\"fBits\":3342344,\"fLineColor\":1,\"fLineStyle\":1,\"fLineWidth\":1,\"fFillColor\":0,\"fFillStyle\":1001,\"fLeftMargin\":0.1,\"fRightMargin\":0.1,\"fBottomMargin\":0.1,\"fTopMargin\":0.1,\"fXfile\":2,\"fYfile\":2,\"fAfile\":1,\"fXstat\":0.99,\"fYstat\":0.99,\"fAstat\":2,\"fFrameFillColor\":0,\"fFrameLineColor\":1,\"fFrameFillStyle\":1001,\"fFrameLineStyle\":1,\"fFrameLineWidth\":1,\"fFrameBorderSize\":1,\"fFrameBorderMode\":0,\"fX1\":-0.375000027939679,\"fY1\":-297.675022178517,\"fX2\":3.37500002793968,\"fY2\":2679.07502217852,\"fXtoAbsPixelk\":69.6000541484835,\"fXtoPixelk\":69.6000541484835,\"fXtoPixel\":185.599997234344,\"fYtoAbsPixelk\":424.800047186661,\"fYtoPixelk\":424.800047186661,\"fYtoPixel\":-0.158562187945461,\"fUtoAbsPixelk\":5e-5,\"fUtoPixelk\":5e-5,\"fUtoPixel\":696,\"fVtoAbsPixelk\":472.00005,\"fVtoPixelk\":472,\"fVtoPixel\":-472,\"fAbsPixeltoXk\":-0.375000027939679,\"fPixeltoXk\":-0.375000027939679,\"fPixeltoX\":0.00538793111476919,\"fAbsPixeltoYk\":2679.07502217852,\"fPixeltoYk\":-297.675022178517,\"fPixeltoY\":-6.30667382279033,\"fXlowNDC\":0,\"fYlowNDC\":0,\"fXUpNDC\":1,\"fYUpNDC\":1,\"fWNDC\":1,\"fHNDC\":1,\"fAbsXlowNDC\":0,\"fAbsYlowNDC\":0,\"fAbsWNDC\":1,\"fAbsHNDC\":1,\"fUxmin\":0,\"fUymin\":0,\"fUxmax\":3,\"fUymax\":2381.4,\"fTheta\":30,\"fPhi\":30,\"fAspectRatio\":0,\"fNumber\":0,\"fTickx\":0,\"fTicky\":0,\"fLogx\":0,\"fLogy\":0,\"fLogz\":0,\"fPadPaint\":0,\"fCrosshair\":0,\"fCrosshairPos\":0,\"fBorderSize\":2,\"fBorderMode\":0,\"fModified\":false,\"fGridx\":false,\"fGridy\":false,\"fAbsCoord\":false,\"fEditable\":true,\"fFixedAspectRatio\":false,\"fPrimitives\":{\"_typename\":\"TList\",\"name\":\"TList\",\"arr\":[{\"_typename\":\"TFrame\",\"fUniqueID\":0,\"fBits\":8,\"fLineColor\":1,\"fLineStyle\":1,\"fLineWidth\":1,\"fFillColor\":0,\"fFillStyle\":1001,\"fX1\":0,\"fY1\":0,\"fX2\":3,\"fY2\":2381.4,\"fBorderSize\":1,\"fBorderMode\":0},{\"_typename\":\"TH1D\",\"fUniqueID\":0,\"fBits\":520,\"fName\":\"\",\"fTitle\":\"#pi^{+}\",\"fLineColor\":602,\"fLineStyle\":1,\"fLineWidth\":1,\"fFillColor\":0,\"fFillStyle\":1001,\"fMarkerColor\":1,\"fMarkerStyle\":1,\"fMarkerSize\":1,\"fNcells\":1002,\"fXaxis\":{\"_typename\":\"TAxis\",\"fUniqueID\":0,\"fBits\":0,\"fName\":\"xaxis\",\"fTitle\":\"Momentum (GeV\\/c)\",\"fNdivisions\":510,\"fAxisColor\":1,\"fLabelColor\":1,\"fLabelFont\":42,\"fLabelOffset\":0.005,\"fLabelSize\":0.035,\"fTickLength\":0.03,\"fTitleOffset\":1,\"fTitleSize\":0.035,\"fTitleColor\":1,\"fTitleFont\":42,\"fNbins\":1000,\"fXmin\":0,\"fXmax\":3,\"fXbins\":[],\"fFirst\":0,\"fLast\":0,\"fBits2\":0,\"fTimeDisplay\":false,\"fTimeFormat\":\"\",\"fLabels\":null,\"fModLabs\":null},\"fYaxis\":{\"_typename\":\"TAxis\",\"fUniqueID\":0,\"fBits\":0,\"fName\":\"yaxis\",\"fTitle\":\"\",\"fNdivisions\":510,\"fAxisColor\":1,\"fLabelColor\":1,\"fLabelFont\":42,\"fLabelOffset\":0.005,\"fLabelSize\":0.035,\"fTickLength\":0.03,\"fTitleOffset\":0,\"fTitleSize\":0.035,\"fTitleColor\":1,\"fTitleFont\":42,\"fNbins\":1,\"fXmin\":0,\"fXmax\":1,\"fXbins\":[],\"fFirst\":0,\"fLast\":0,\"fBits2\":0,\"fTimeDisplay\":false,\"fTimeFormat\":\"\",\"fLabels\":null,\"fModLabs\":null},\"fZaxis\":{\"_typename\":\"TAxis\",\"fUniqueID\":0,\"fBits\":0,\"fName\":\"zaxis\",\"fTitle\":\"\",\"fNdivisions\":510,\"fAxisColor\":1,\"fLabelColor\":1,\"fLabelFont\":42,\"fLabelOffset\":0.005,\"fLabelSize\":0.035,\"fTickLength\":0.03,\"fTitleOffset\":1,\"fTitleSize\":0.035,\"fTitleColor\":1,\"fTitleFont\":42,\"fNbins\":1,\"fXmin\":0,\"fXmax\":1,\"fXbins\":[],\"fFirst\":0,\"fLast\":0,\"fBits2\":0,\"fTimeDisplay\":false,\"fTimeFormat\":\"\",\"fLabels\":null,\"fModLabs\":null},\"fBarOffset\":0,\"fBarWidth\":1000,\"fEntries\":282480,\"fTsumw\":282480,\"fTsumw2\":282480,\"fTsumwx\":113204.60848356,\"fTsumwx2\":79474.6260717567,\"fMaximum\":-1111,\"fMinimum\":-1111,\"fNormFactor\":0,\"fContour\":[],\"fSumw2\":[],\"fOption\":\"\",\"fFunctions\":{\"_typename\":\"TList\",\"name\":\"TList\",\"arr\":[],\"opt\":[]},\"fBufferSize\":0,\"fBuffer\":[],\"fBinStatErrOpt\":0,\"fStatOverflows\":2,\"fArray\":{\"$arr\":\"Float64\",\"len\":1002,\"p\":1,\"v\":[12,28,47,102,109,123,192,233,313,294,364,424,444,526,535,574,661,754,848,890,886,1026,1107,1166,1311,1282,1396,1412,1527,1622,1740,1750,1699,1845,1864,1938,1981,2071,2049,2085,2147,2051,2141,2198,2154,2268,2118,2200,2216,2188,2171,2136,2175,2199,2095,2060,2031,2049,2013,2041,1943,1910,1930,1971,1820,1833,1775,1800,1757,1719,1674,1753,1724,1616,1619,1602,1574,1524,1436,1515,1486,1404,1399,1445,1412,1379,1367,1316,1303,1304,1308,1281,1290,1203,1275,1245,1282,1223,1203,1266,1161,1188,1190,1236,1214,1214,1175,1155,1200,1126,1169,1210,1193,1121,1090,1131,1121,1142,1120,1110,1113,1095,1106,1072,1099,1083,1033,1083,1074,1043,1004,1037,1002,989,944,1004,908,979,963,868,954,937,885,921,894,872,874,899,860,815,878,820,784,867,842,825,812,765,744,727,729,748,733,764,742,747,757,692,658,672,632,675,633,643,594,668,612,631,579,591,601,572,603,605,607,588,547,543,559,551,550,525,531,533,537,524,488,492,515,487,485,461,494,477,500,452,488,461,471,444,421,469,438,453,434,403,410,409,434,398,424,383,372,381,370,364,377,371,345,369,324,357,364,302,319,380,315,325,311,307,297,277,313,297,286,302,282,317,275,296,296,293,282,311,310,266,277,254,281,253,254,269,259,269,246,242,272,251,267,252,276,270,267,268,262,247,251,231,220,225,229,228,235,204,245,227,212,197,195,212,184,209,186,202,215,206,201,168,215,198,172,187,171,159,177,169,157,195,174,153,155,139,127,168,169,167,142,141,169,138,152,158,121,131,145,133,143,131,129,137,101,125,119,105,113,120,145,142,133,108,123,122,113,134,128,116,123,134,123,130,93,95,93,103,119,120,112,115,98,111,113,108,111,118,89,113,114,107,106,96,94,103,105,100,100,99,100,90,100,97,76,78,98,74,107,98,82,91,92,106,87,90,96,75,96,83,89,87,78,84,73,79,95,75,84,69,100,79,100,82,67,88,81,72,68,64,75,71,69,63,72,74,60,86,74,74,66,83,78,63,52,62,75,79,66,73,45,61,64,61,57,74,54,57,66,56,68,66,57,54,62,59,73,63,74,79,62,57,64,63,50,48,53,57,57,60,52,51,52,50,49,52,60,58,48,50,63,42,53,45,51,35,35,42,32,57,44,43,46,41,37,44,43,49,58,46,45,40,41,49,53,39,43,37,42,48,43,38,38,41,39,40,37,41,25,27,49,34,28,39,41,32,39,25,29,38,33,29,34,33,36,39,41,38,43,30,38,36,22,29,40,43,35,24,33,19,37,23,31,26,28,28,20,35,28,26,33,30,24,26,21,33,26,37,19,18,26,27,41,21,25,24,28,26,24,25,18,29,19,25,22,31,22,23,22,20,28,26,28,20,27,14,25,19,23,21,10,12,23,19,20,28,19,17,21,22,18,14,25,20,24,14,23,14,18,8,13,16,12,24,18,18,22,20,10,17,19,15,17,18,20,17,10,17,18,13,20,13,26,16,16,10,17,17,17,18,9,21,14,9,15,16,11,21,13,10,17,10,9,11,14,20,10,12,12,16,12,8,10,9,14,15,18,7,17,8,10,13,12,9,13,13,14,10,18,5,11,14,13,12,6,19,9,9,8,9,10,10,9,19,6,10,8,6,11,14,7,10,7,13,7,10,7,13,4,8,9,5,8,8,7,8,8,11,8,8,6,8,16,14,2,12,5,4,7,7,10,5,10,6,6,5,7,3,4,9,6,3,9,2,12,3,3,6,5,5,6,3,4,2,7,6,10,8,3,5,7,2,7,6,4,7,6,7,7,2,3,7,5,1,5,4,5,2,8,6,2,6,7,4,6,3,2,5,4,7,3,3,7,7,5,0,5,1,3,5,2,5,3,2,4,2,2,6,6,4,1,2,4,3,2,2,1,3,3,4,1,3,5,4,0,2,2,3,2,0,3,2,0,3,1,1,0,2,1,1,1,2,1,3,0,2,3,4,3,1,1,2,0,0,3,0,3,2,2,0,2,1,3,3,0,2,1,2,1,3,2,1,1,1,2,1,2,4,0,4,3,1,0,2,1,0,1,2,1,0,2,0,0,0,3,1,1,0,2,0,1,0,0,2,1,0,0,1,0,0,0,1,0],\"v1\":1,\"n1\":6,\"p2\":932,\"v2\":[3,0,0,1,0,0,0,0,1,1,2,0,2,0,0,0,1,0,0,0,0,1,0,0,0,0,0,0,0,0,0,1],\"p3\":974,\"v3\":[2,0,1,0,0,0,0,1,0,0,1],\"p4\":996,\"v4\":1}},{\"_typename\":\"TPaveText\",\"fUniqueID\":0,\"fBits\":9,\"fLineColor\":1,\"fLineStyle\":1,\"fLineWidth\":1,\"fFillColor\":0,\"fFillStyle\":0,\"fX1\":1.40323275717875,\"fY1\":2500.47003127171,\"fX2\":1.59676724282125,\"fY2\":2664.19128615098,\"fX1NDC\":0.474195402298851,\"fY1NDC\":0.940000003948808,\"fX2NDC\":0.525804597701149,\"fY2NDC\":0.995000004768372,\"fBorderSize\":0,\"fInit\":1,\"fShadowColor\":1,\"fCornerRadius\":0,\"fOption\":\"blNDC\",\"fName\":\"title\",\"fTextAngle\":0,\"fTextSize\":0,\"fTextAlign\":22,\"fTextColor\":1,\"fTextFont\":42,\"fLabel\":\"\",\"fLongest\":7,\"fMargin\":0.05,\"fLines\":{\"_typename\":\"TList\",\"name\":\"TList\",\"arr\":[{\"_typename\":\"TLatex\",\"fUniqueID\":0,\"fBits\":0,\"fName\":\"\",\"fTitle\":\"#pi^{+}\",\"fTextAngle\":0,\"fTextSize\":0,\"fTextAlign\":0,\"fTextColor\":0,\"fTextFont\":0,\"fX\":0,\"fY\":0,\"fLineColor\":1,\"fLineStyle\":1,\"fLineWidth\":2,\"fLimitFactorSize\":3,\"fOriginSize\":0.0467500016093254}],\"opt\":[\"\"]}},{\"_typename\":\"TStyle\",\"fUniqueID\":0,\"fBits\":0,\"fName\":\"Modern\",\"fTitle\":\"Modern Style\",\"fLineColor\":1,\"fLineStyle\":1,\"fLineWidth\":1,\"fFillColor\":19,\"fFillStyle\":1001,\"fMarkerColor\":1,\"fMarkerStyle\":1,\"fMarkerSize\":1,\"fTextAngle\":0,\"fTextSize\":0.05,\"fTextAlign\":11,\"fTextColor\":1,\"fTextFont\":62,\"fXaxis\":{\"_typename\":\"TAttAxis\",\"fNdivisions\":510,\"fAxisColor\":1,\"fLabelColor\":1,\"fLabelFont\":42,\"fLabelOffset\":0.005,\"fLabelSize\":0.035,\"fTickLength\":0.03,\"fTitleOffset\":1,\"fTitleSize\":0.035,\"fTitleColor\":1,\"fTitleFont\":42},\"fYaxis\":{\"_typename\":\"TAttAxis\",\"fNdivisions\":510,\"fAxisColor\":1,\"fLabelColor\":1,\"fLabelFont\":42,\"fLabelOffset\":0.005,\"fLabelSize\":0.035,\"fTickLength\":0.03,\"fTitleOffset\":0,\"fTitleSize\":0.035,\"fTitleColor\":1,\"fTitleFont\":42},\"fZaxis\":{\"_typename\":\"TAttAxis\",\"fNdivisions\":510,\"fAxisColor\":1,\"fLabelColor\":1,\"fLabelFont\":42,\"fLabelOffset\":0.005,\"fLabelSize\":0.035,\"fTickLength\":0.03,\"fTitleOffset\":1,\"fTitleSize\":0.035,\"fTitleColor\":1,\"fTitleFont\":42},\"fBarWidth\":1,\"fBarOffset\":0,\"fColorModelPS\":0,\"fDrawBorder\":0,\"fOptLogx\":0,\"fOptLogy\":0,\"fOptLogz\":0,\"fOptDate\":0,\"fOptStat\":0,\"fOptTitle\":1,\"fOptFile\":0,\"fOptFit\":0,\"fShowEventStatus\":0,\"fShowEditor\":0,\"fShowToolBar\":0,\"fNumberContours\":20,\"fAttDate\":{\"_typename\":\"TAttText\",\"fTextAngle\":0,\"fTextSize\":0.025,\"fTextAlign\":11,\"fTextColor\":1,\"fTextFont\":62},\"fDateX\":0.01,\"fDateY\":0.01,\"fEndErrorSize\":2,\"fErrorX\":0.5,\"fFuncColor\":2,\"fFuncStyle\":1,\"fFuncWidth\":2,\"fGridColor\":0,\"fGridStyle\":3,\"fGridWidth\":1,\"fLegendBorderSize\":1,\"fLegendFillColor\":0,\"fLegendFont\":42,\"fLegendTextSize\":0,\"fHatchesLineWidth\":1,\"fHatchesSpacing\":1,\"fFrameFillColor\":0,\"fFrameLineColor\":1,\"fFrameFillStyle\":1001,\"fFrameLineStyle\":1,\"fFrameLineWidth\":1,\"fFrameBorderSize\":1,\"fFrameBorderMode\":0,\"fHistFillColor\":0,\"fHistLineColor\":602,\"fHistFillStyle\":1001,\"fHistLineStyle\":1,\"fHistLineWidth\":1,\"fHistMinimumZero\":false,\"fHistTopMargin\":0.05,\"fCanvasPreferGL\":false,\"fCanvasColor\":0,\"fCanvasBorderSize\":2,\"fCanvasBorderMode\":0,\"fCanvasDefH\":500,\"fCanvasDefW\":700,\"fCanvasDefX\":10,\"fCanvasDefY\":10,\"fPadColor\":0,\"fPadBorderSize\":2,\"fPadBorderMode\":0,\"fPadBottomMargin\":0.1,\"fPadTopMargin\":0.1,\"fPadLeftMargin\":0.1,\"fPadRightMargin\":0.1,\"fPadGridX\":false,\"fPadGridY\":false,\"fPadTickX\":0,\"fPadTickY\":0,\"fPaperSizeX\":20,\"fPaperSizeY\":26,\"fScreenFactor\":1,\"fStatColor\":0,\"fStatTextColor\":1,\"fStatBorderSize\":1,\"fStatFont\":42,\"fStatFontSize\":0,\"fStatStyle\":1001,\"fStatFormat\":\"6.4g\",\"fStatX\":0.98,\"fStatY\":0.935,\"fStatW\":0.2,\"fStatH\":0.16,\"fStripDecimals\":true,\"fTitleAlign\":23,\"fTitleColor\":0,\"fTitleTextColor\":1,\"fTitleBorderSize\":0,\"fTitleFont\":42,\"fTitleFontSize\":0.05,\"fTitleStyle\":0,\"fTitleX\":0.5,\"fTitleY\":0.995,\"fTitleW\":0,\"fTitleH\":0,\"fLegoInnerR\":0.5,\"fLineStyles\":[\"\",\"  \",\" 12 12\",\" 4 8\",\" 12 16 4 16\",\" 20 12 4 12\",\" 20 12 4 12 4 12 4 12\",\" 20 20\",\" 20 12 4 12 4 12\",\" 80 20\",\" 80 40 4 40\",\"  \",\"  \",\"  \",\"  \",\"  \",\"  \",\"  \",\"  \",\"  \",\"  \",\"  \",\"  \",\"  \",\"  \",\"  \",\"  \",\"  \",\"  \",\"  \"],\"fHeaderPS\":\"\",\"fTitlePS\":\"\",\"fFitFormat\":\"5.4g\",\"fPaintTextFormat\":\"g\",\"fLineScalePS\":3,\"fJoinLinePS\":0,\"fCapLinePS\":0,\"fTimeOffset\":788918400,\"fImageScaling\":1}],\"opt\":[\"\",\"\",\"blNDC\",\"\"]},\"fExecs\":null,\"fName\":\"c1\",\"fTitle\":\"c1\",\"fNumPaletteColor\":0,\"fNextPaletteColor\":0,\"fDISPLAY\":\"$DISPLAY\",\"fDoubleBuffer\":0,\"fRetained\":true,\"fXsizeUser\":0,\"fYsizeUser\":0,\"fXsizeReal\":20,\"fYsizeReal\":14.28571,\"fWindowTopX\":0,\"fWindowTopY\":0,\"fWindowWidth\":0,\"fWindowHeight\":0,\"fCw\":696,\"fCh\":472,\"fCatt\":{\"_typename\":\"TAttCanvas\",\"fXBetween\":2,\"fYBetween\":2,\"fTitleFromTop\":1.2,\"fXdate\":0.2,\"fYdate\":0.3,\"fAdate\":1},\"kMoveOpaque\":true,\"kResizeOpaque\":true,\"fHighLightColor\":2,\"fBatch\":true,\"kShowEventStatus\":false,\"kAutoExec\":true,\"kMenuBar\":true});\n",
       "   Core.settings.HandleKeys = false;\n",
       "   Core.draw(\"root_plot_1650566846022\", obj, \"\");\n",
       "}\n",
       "\n",
       "function script_load_root_plot_1650566846022(src, on_error) {\n",
       "    let script = document.createElement('script');\n",
       "    script.src = src;\n",
       "    script.onload = function() { display_root_plot_1650566846022(JSROOT); };\n",
       "    script.onerror = function() { script.remove(); on_error(); };\n",
       "    document.head.appendChild(script);\n",
       "}\n",
       "\n",
       "if (typeof requirejs !== 'undefined') {\n",
       "\n",
       "    // We are in jupyter notebooks, use require.js which should be configured already\n",
       "    requirejs.config({\n",
       "       paths: { 'JSRootCore' : [ 'scripts/JSRoot.core', 'https://root.cern/js/6.1.1/scripts/JSRoot.core.min', 'https://jsroot.gsi.de/6.1.1/scripts/JSRoot.core.min' ] }\n",
       "    })(['JSRootCore'],  function(Core) {\n",
       "       display_root_plot_1650566846022(Core);\n",
       "    });\n",
       "\n",
       "} else if (typeof JSROOT !== 'undefined') {\n",
       "\n",
       "   // JSROOT already loaded, just use it\n",
       "   display_root_plot_1650566846022(JSROOT);\n",
       "\n",
       "} else {\n",
       "\n",
       "    // We are in jupyterlab without require.js, directly loading jsroot\n",
       "    // Jupyterlab might be installed in a different base_url so we need to know it.\n",
       "    try {\n",
       "        var base_url = JSON.parse(document.getElementById('jupyter-config-data').innerHTML).baseUrl;\n",
       "    } catch(_) {\n",
       "        var base_url = '/';\n",
       "    }\n",
       "\n",
       "    // Try loading a local version of requirejs and fallback to cdn if not possible.\n",
       "    script_load_root_plot_1650566846022(base_url + 'static/scripts/JSRoot.core.js', function(){\n",
       "        console.error('Fail to load JSROOT locally, please check your jupyter_notebook_config.py file');\n",
       "        script_load_root_plot_1650566846022('https://root.cern/js/6.1.1/scripts/JSRoot.core.min.js', function(){\n",
       "            document.getElementById(\"root_plot_1650566846022\").innerHTML = \"Failed to load JSROOT\";\n",
       "        });\n",
       "    });\n",
       "}\n",
       "\n",
       "</script>\n"
      ],
      "text/plain": [
       "<IPython.core.display.HTML object>"
      ]
     },
     "metadata": {},
     "output_type": "display_data"
    }
   ],
   "source": [
    "h4.SetTitle(\"#pi^{+};Momentum (GeV/c);\")\n",
    "h4.Draw()\n",
    "c.Draw()"
   ]
  },
  {
   "cell_type": "code",
   "execution_count": null,
   "metadata": {},
   "outputs": [],
   "source": []
  }
 ],
 "metadata": {
  "kernelspec": {
   "display_name": "Python 3",
   "language": "python",
   "name": "python3"
  },
  "language_info": {
   "codemirror_mode": {
    "name": "ipython",
    "version": 3
   },
   "file_extension": ".py",
   "mimetype": "text/x-python",
   "name": "python",
   "nbconvert_exporter": "python",
   "pygments_lexer": "ipython3",
   "version": "3.8.2"
  }
 },
 "nbformat": 4,
 "nbformat_minor": 4
}
